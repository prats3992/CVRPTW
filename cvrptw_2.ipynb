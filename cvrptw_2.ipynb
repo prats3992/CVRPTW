{
 "cells": [
  {
   "cell_type": "code",
   "execution_count": 43,
   "metadata": {},
   "outputs": [],
   "source": [
    "from ortools.constraint_solver import routing_enums_pb2\n",
    "from ortools.constraint_solver import pywrapcp"
   ]
  },
  {
   "cell_type": "code",
   "execution_count": 44,
   "metadata": {},
   "outputs": [],
   "source": [
    "def create_data_model():\n",
    "    \"\"\"Stores the data for the problem.\"\"\"\n",
    "    data = {}\n",
    "    with open(\"time_matrix.txt\", \"r\") as f:\n",
    "        data[\"time_matrix\"] = [\n",
    "            [int(num) for num in line.split(\"\\t\")] for line in f.readlines()]\n",
    "    data['time_windows'] = [\n",
    "        (0, 600),   # depot\n",
    "        (800, 1100),  # 1\n",
    "        (1000, 1300),  # 2\n",
    "        (400, 750),   # 3\n",
    "        (850, 1200),  # 4\n",
    "        (600, 1000),  # 5\n",
    "        (850, 1100),  # 6\n",
    "        (500, 900),   # 7\n",
    "        (1200, 1400),  # 8\n",
    "        (400, 800),   # 9\n",
    "        (550, 850),   # 10\n",
    "        (150, 1000),  # 11\n",
    "        (600, 1500),  # 12\n",
    "        (700, 1200),  # 13\n",
    "        (900, 1300),  # 14\n",
    "        (250, 700),   # 15\n",
    "        (400, 1000),  # 16\n",
    "    ]\n",
    "    data['demands'] = [0, 4, 5, 9, 5, 5, 3,\n",
    "                       3, 8, 4, 8, 1, 6, 3, 2, 7, 2]   # weights/demands for each node\n",
    "    data['vehicle_capacities'] = [20, 20, 5, 20, 20, 20, 10, 20, 20, 20]\n",
    "    data['num_vehicles'] = 10\n",
    "    data['depot'] = 0\n",
    "    return data"
   ]
  },
  {
   "cell_type": "code",
   "execution_count": 45,
   "metadata": {},
   "outputs": [],
   "source": [
    "def print_solution(data, manager, routing, solution):\n",
    "    \"\"\"Prints solution on console.\"\"\"\n",
    "    print(f'Objective: {solution.ObjectiveValue()}')\n",
    "    time_dimension = routing.GetDimensionOrDie('Time')\n",
    "    total_time = 0\n",
    "    total_load = 0\n",
    "    for vehicle_id in range(data['num_vehicles']):\n",
    "        index = routing.Start(vehicle_id)\n",
    "        plan_output = 'Route for vehicle {}:\\n'.format(vehicle_id)\n",
    "        route_load = 0\n",
    "        while not routing.IsEnd(index):\n",
    "            time_var = time_dimension.CumulVar(index)\n",
    "            node_index = manager.IndexToNode(index)\n",
    "            route_load += data['demands'][node_index]\n",
    "            plan_output += '{0} Time({1},{2}) Load({3}) -> '.format(\n",
    "                node_index, solution.Min(time_var),\n",
    "                solution.Max(time_var), route_load)\n",
    "            index = solution.Value(routing.NextVar(index))\n",
    "        time_var = time_dimension.CumulVar(index)\n",
    "        node_index = manager.IndexToNode(index)\n",
    "        route_load += data['demands'][node_index]\n",
    "        plan_output += '{0} Time({1},{2}) Load({3})\\n'.format(node_index,\n",
    "                                                              solution.Min(\n",
    "                                                                  time_var),\n",
    "                                                              solution.Max(\n",
    "                                                                  time_var),\n",
    "                                                              route_load)\n",
    "        plan_output += 'Time of the route: {}min\\n'.format(\n",
    "            solution.Min(time_var))\n",
    "        plan_output += 'Load of the route: {}\\n'.format(route_load)\n",
    "        print(plan_output)\n",
    "        total_time += solution.Min(time_var)\n",
    "    print('Total time of all routes: {}min'.format(total_time))"
   ]
  },
  {
   "cell_type": "code",
   "execution_count": 46,
   "metadata": {},
   "outputs": [],
   "source": [
    "\"\"\"Solve the VRP with time windows.\"\"\"\n",
    "# Instantiate the data problem.\n",
    "data = create_data_model()"
   ]
  },
  {
   "cell_type": "code",
   "execution_count": 47,
   "metadata": {},
   "outputs": [],
   "source": [
    "# Create the routing index manager\n",
    "# The inputs to RoutingIndexManager are:\n",
    "#   The number of locations (including the depot)\n",
    "#   The number of vehicles in the problem\n",
    "#   The node corresponding to the depot\n",
    "\n",
    "manager = pywrapcp.RoutingIndexManager(\n",
    "    len(data['time_matrix']), data['num_vehicles'], data['depot'])"
   ]
  },
  {
   "cell_type": "code",
   "execution_count": 48,
   "metadata": {},
   "outputs": [],
   "source": [
    "# Create Routing Model.\n",
    "routing = pywrapcp.RoutingModel(manager)"
   ]
  },
  {
   "cell_type": "code",
   "execution_count": 49,
   "metadata": {},
   "outputs": [],
   "source": [
    "# Create and register a transit callback.\n",
    "def time_callback(from_index, to_index):\n",
    "    \"\"\"Returns the travel time between the two nodes.\"\"\"\n",
    "    # Convert from routing variable Index to time matrix NodeIndex.\n",
    "    from_node = manager.IndexToNode(from_index)\n",
    "    to_node = manager.IndexToNode(to_index)\n",
    "    return data['time_matrix'][from_node][to_node]\n",
    "\n",
    "\n",
    "transit_callback_index = routing.RegisterTransitCallback(time_callback)"
   ]
  },
  {
   "cell_type": "code",
   "execution_count": 50,
   "metadata": {},
   "outputs": [],
   "source": [
    "# Define cost of each arc.\n",
    "routing.SetArcCostEvaluatorOfAllVehicles(transit_callback_index)"
   ]
  },
  {
   "cell_type": "code",
   "execution_count": 51,
   "metadata": {},
   "outputs": [],
   "source": [
    "# Add Time Windows constraint.\n",
    "import math\n",
    "time = 'Time'\n",
    "routing.AddDimension(\n",
    "    transit_callback_index,\n",
    "    1500,  # allow waiting time (1440 as it means the whole day in minutes)\n",
    "    2500,  # maximum time per vehicle (all times are assumed to be in minutes)\n",
    "    False,  # Don't force start cumul to zero.\n",
    "    time)\n",
    "time_dimension = routing.GetDimensionOrDie(time)\n",
    "# Add time window constraints for each location except depot.\n",
    "for location_idx, time_window in enumerate(data['time_windows']):\n",
    "    if location_idx == data['depot']:\n",
    "        continue\n",
    "    index = manager.NodeToIndex(location_idx)\n",
    "    time_dimension.CumulVar(index).SetRange(time_window[0], time_window[1])\n",
    "# Add time window constraints for each vehicle start node.\n",
    "depot_idx = data['depot']\n",
    "for vehicle_id in range(data['num_vehicles']):\n",
    "    index = routing.Start(vehicle_id)\n",
    "    time_dimension.CumulVar(index).SetRange(\n",
    "        data['time_windows'][depot_idx][0],\n",
    "        data['time_windows'][depot_idx][1])"
   ]
  },
  {
   "cell_type": "code",
   "execution_count": 52,
   "metadata": {},
   "outputs": [],
   "source": [
    "# Instantiate route start and end times to produce feasible times.\n",
    "for i in range(data['num_vehicles']):\n",
    "    routing.AddVariableMinimizedByFinalizer(\n",
    "        time_dimension.CumulVar(routing.Start(i)))\n",
    "    routing.AddVariableMinimizedByFinalizer(\n",
    "        time_dimension.CumulVar(routing.End(i)))"
   ]
  },
  {
   "cell_type": "code",
   "execution_count": 53,
   "metadata": {},
   "outputs": [
    {
     "data": {
      "text/plain": [
       "True"
      ]
     },
     "execution_count": 53,
     "metadata": {},
     "output_type": "execute_result"
    }
   ],
   "source": [
    "# Add Capacity constraint.\n",
    "def demand_callback(from_index):\n",
    "    \"\"\"Returns the demand of the node.\"\"\"\n",
    "    # Convert from routing variable Index to demands NodeIndex.\n",
    "    from_node = manager.IndexToNode(from_index)\n",
    "    return data['demands'][from_node]\n",
    "\n",
    "\n",
    "demand_callback_index = routing.RegisterUnaryTransitCallback(\n",
    "    demand_callback)\n",
    "routing.AddDimensionWithVehicleCapacity(\n",
    "    demand_callback_index,\n",
    "    0,  # null capacity slack\n",
    "    data['vehicle_capacities'],  # vehicle maximum capacities\n",
    "    True,  # start cumul to zero\n",
    "    'Capacity')"
   ]
  },
  {
   "cell_type": "code",
   "execution_count": 54,
   "metadata": {},
   "outputs": [],
   "source": [
    "# Setting first solution heuristic.\n",
    "search_parameters = pywrapcp.DefaultRoutingSearchParameters()\n",
    "search_parameters.first_solution_strategy = (\n",
    "    routing_enums_pb2.FirstSolutionStrategy.PARALLEL_CHEAPEST_INSERTION)"
   ]
  },
  {
   "cell_type": "code",
   "execution_count": 55,
   "metadata": {},
   "outputs": [
    {
     "name": "stdout",
     "output_type": "stream",
     "text": [
      "0.023087739944458008\n"
     ]
    }
   ],
   "source": [
    "# Solve the problem.\n",
    "import time\n",
    "start_time = time.time()\n",
    "solution = routing.SolveWithParameters(search_parameters)\n",
    "end_time = time.time()\n",
    "print(end_time-start_time)"
   ]
  },
  {
   "cell_type": "code",
   "execution_count": 56,
   "metadata": {},
   "outputs": [
    {
     "name": "stdout",
     "output_type": "stream",
     "text": [
      "Objective: 16144\n",
      "Route for vehicle 0:\n",
      "0 Time(0,0) Load(0) -> 9 Time(447,447) Load(4) -> 1 Time(878,878) Load(8) -> 8 Time(1263,1263) Load(16) -> 0 Time(2271,2271) Load(16)\n",
      "Time of the route: 2271min\n",
      "Load of the route: 16\n",
      "\n",
      "Route for vehicle 1:\n",
      "0 Time(0,0) Load(0) -> 6 Time(850,850) Load(3) -> 0 Time(1468,1468) Load(3)\n",
      "Time of the route: 1468min\n",
      "Load of the route: 3\n",
      "\n",
      "Route for vehicle 2:\n",
      "0 Time(0,0) Load(0) -> 11 Time(627,627) Load(1) -> 13 Time(1196,1196) Load(4) -> 0 Time(2334,2334) Load(4)\n",
      "Time of the route: 2334min\n",
      "Load of the route: 4\n",
      "\n",
      "Route for vehicle 3:\n",
      "0 Time(0,0) Load(0) -> 3 Time(533,533) Load(9) -> 16 Time(996,996) Load(11) -> 12 Time(1319,1319) Load(17) -> 0 Time(2471,2471) Load(17)\n",
      "Time of the route: 2471min\n",
      "Load of the route: 17\n",
      "\n",
      "Route for vehicle 4:\n",
      "0 Time(0,0) Load(0) -> 15 Time(526,659) Load(7) -> 2 Time(1000,1000) Load(12) -> 0 Time(1704,1704) Load(12)\n",
      "Time of the route: 1704min\n",
      "Load of the route: 12\n",
      "\n",
      "Route for vehicle 5:\n",
      "0 Time(0,0) Load(0) -> 7 Time(533,533) Load(3) -> 0 Time(1345,1345) Load(3)\n",
      "Time of the route: 1345min\n",
      "Load of the route: 3\n",
      "\n",
      "Route for vehicle 6:\n",
      "0 Time(0,0) Load(0) -> 10 Time(816,816) Load(8) -> 0 Time(1637,1637) Load(8)\n",
      "Time of the route: 1637min\n",
      "Load of the route: 8\n",
      "\n",
      "Route for vehicle 7:\n",
      "0 Time(0,0) Load(0) -> 5 Time(697,697) Load(5) -> 0 Time(1354,1354) Load(5)\n",
      "Time of the route: 1354min\n",
      "Load of the route: 5\n",
      "\n",
      "Route for vehicle 8:\n",
      "0 Time(0,0) Load(0) -> 0 Time(0,0) Load(0)\n",
      "Time of the route: 0min\n",
      "Load of the route: 0\n",
      "\n",
      "Route for vehicle 9:\n",
      "0 Time(0,0) Load(0) -> 4 Time(850,850) Load(5) -> 14 Time(1141,1141) Load(7) -> 0 Time(2173,2173) Load(7)\n",
      "Time of the route: 2173min\n",
      "Load of the route: 7\n",
      "\n",
      "Total time of all routes: 16757min\n"
     ]
    }
   ],
   "source": [
    "# Print solution on console.\n",
    "if solution:\n",
    "    print_solution(data, manager, routing, solution)\n",
    "else:\n",
    "    print(\"No solution found !\")"
   ]
  }
 ],
 "metadata": {
  "kernelspec": {
   "display_name": "Python 3",
   "language": "python",
   "name": "python3"
  },
  "language_info": {
   "codemirror_mode": {
    "name": "ipython",
    "version": 3
   },
   "file_extension": ".py",
   "mimetype": "text/x-python",
   "name": "python",
   "nbconvert_exporter": "python",
   "pygments_lexer": "ipython3",
   "version": "3.11.5"
  }
 },
 "nbformat": 4,
 "nbformat_minor": 2
}
